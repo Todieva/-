 "Импортируем библиотеки
!pip install pubchempy
import pubchempy as pcp
import numpy as np
import pandas as pd
import glob 
import matplotlib.pyplot as plt
import seaborn as sns
from sklearn.preprocessing import MinMaxScaler
from sqlalchemy import create_engine

""Профилирование данных
df = pd.read_excel('/content/Рассеянный склероз_ДСМ.xlsx')
df.info
"text"
